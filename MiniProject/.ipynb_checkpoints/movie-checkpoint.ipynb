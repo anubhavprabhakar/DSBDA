{
 "cells": [
  {
   "cell_type": "code",
   "execution_count": 2,
   "id": "f89fbb92",
   "metadata": {},
   "outputs": [],
   "source": [
    "import pandas as pd\n",
    "import numpy as np\n",
    "import seaborn as sns\n",
    "import matplotlib.pyplot as plt\n"
   ]
  },
  {
   "cell_type": "code",
   "execution_count": 4,
   "id": "1a032e8f",
   "metadata": {},
   "outputs": [
    {
     "data": {
      "text/html": [
       "<div>\n",
       "<style scoped>\n",
       "    .dataframe tbody tr th:only-of-type {\n",
       "        vertical-align: middle;\n",
       "    }\n",
       "\n",
       "    .dataframe tbody tr th {\n",
       "        vertical-align: top;\n",
       "    }\n",
       "\n",
       "    .dataframe thead th {\n",
       "        text-align: right;\n",
       "    }\n",
       "</style>\n",
       "<table border=\"1\" class=\"dataframe\">\n",
       "  <thead>\n",
       "    <tr style=\"text-align: right;\">\n",
       "      <th></th>\n",
       "      <th>title</th>\n",
       "      <th>overview</th>\n",
       "      <th>original_language</th>\n",
       "      <th>release_date</th>\n",
       "      <th>popularity</th>\n",
       "      <th>vote_count</th>\n",
       "      <th>vote_average</th>\n",
       "    </tr>\n",
       "  </thead>\n",
       "  <tbody>\n",
       "    <tr>\n",
       "      <th>0</th>\n",
       "      <td>Artemis Fowl</td>\n",
       "      <td>Why God? Why???</td>\n",
       "      <td>en</td>\n",
       "      <td>12-06-20</td>\n",
       "      <td>214.043</td>\n",
       "      <td>357</td>\n",
       "      <td>6.0</td>\n",
       "    </tr>\n",
       "    <tr>\n",
       "      <th>1</th>\n",
       "      <td>Britt-Marie Was Here</td>\n",
       "      <td>Britt-Marie, a woman in her sixties, decides t...</td>\n",
       "      <td>sv</td>\n",
       "      <td>25-01-19</td>\n",
       "      <td>250.576</td>\n",
       "      <td>10</td>\n",
       "      <td>4.5</td>\n",
       "    </tr>\n",
       "    <tr>\n",
       "      <th>2</th>\n",
       "      <td>Ad Astra</td>\n",
       "      <td>The near future, a time when both hope and har...</td>\n",
       "      <td>en</td>\n",
       "      <td>17-09-19</td>\n",
       "      <td>213.321</td>\n",
       "      <td>3768</td>\n",
       "      <td>6.1</td>\n",
       "    </tr>\n",
       "    <tr>\n",
       "      <th>3</th>\n",
       "      <td>Untitled Spider-Man Sequel</td>\n",
       "      <td>Sony Pictures Entertainment and The Walt Disne...</td>\n",
       "      <td>en</td>\n",
       "      <td>04-11-21</td>\n",
       "      <td>201.053</td>\n",
       "      <td>0</td>\n",
       "      <td>0.0</td>\n",
       "    </tr>\n",
       "    <tr>\n",
       "      <th>4</th>\n",
       "      <td>Sonic the Hedgehog</td>\n",
       "      <td>Based on the global blockbuster videogame fran...</td>\n",
       "      <td>en</td>\n",
       "      <td>12-02-20</td>\n",
       "      <td>118.711</td>\n",
       "      <td>4672</td>\n",
       "      <td>7.5</td>\n",
       "    </tr>\n",
       "    <tr>\n",
       "      <th>...</th>\n",
       "      <td>...</td>\n",
       "      <td>...</td>\n",
       "      <td>...</td>\n",
       "      <td>...</td>\n",
       "      <td>...</td>\n",
       "      <td>...</td>\n",
       "      <td>...</td>\n",
       "    </tr>\n",
       "    <tr>\n",
       "      <th>9995</th>\n",
       "      <td>Clinical</td>\n",
       "      <td>A psychiatrist tries to put her life back toge...</td>\n",
       "      <td>en</td>\n",
       "      <td>13-01-17</td>\n",
       "      <td>9.218</td>\n",
       "      <td>256</td>\n",
       "      <td>5.3</td>\n",
       "    </tr>\n",
       "    <tr>\n",
       "      <th>9996</th>\n",
       "      <td>Already Tomorrow in Hong Kong</td>\n",
       "      <td>In this sparkling romance, Ruby, a Chinese Ame...</td>\n",
       "      <td>en</td>\n",
       "      <td>12-02-16</td>\n",
       "      <td>9.935</td>\n",
       "      <td>74</td>\n",
       "      <td>6.2</td>\n",
       "    </tr>\n",
       "    <tr>\n",
       "      <th>9997</th>\n",
       "      <td>The Adventures of Milo and Otis</td>\n",
       "      <td>The story of two animals and their adventures....</td>\n",
       "      <td>ja</td>\n",
       "      <td>27-06-86</td>\n",
       "      <td>8.705</td>\n",
       "      <td>113</td>\n",
       "      <td>6.5</td>\n",
       "    </tr>\n",
       "    <tr>\n",
       "      <th>9998</th>\n",
       "      <td>Ghidorah, the Three-Headed Monster</td>\n",
       "      <td>The Princess Mas Selina Salno is seemingly ass...</td>\n",
       "      <td>ja</td>\n",
       "      <td>20-12-64</td>\n",
       "      <td>10.456</td>\n",
       "      <td>122</td>\n",
       "      <td>7.3</td>\n",
       "    </tr>\n",
       "    <tr>\n",
       "      <th>9999</th>\n",
       "      <td>Earthquake</td>\n",
       "      <td>Earthquake is a 1974 American disaster film th...</td>\n",
       "      <td>en</td>\n",
       "      <td>15-11-74</td>\n",
       "      <td>11.455</td>\n",
       "      <td>158</td>\n",
       "      <td>5.8</td>\n",
       "    </tr>\n",
       "  </tbody>\n",
       "</table>\n",
       "<p>10000 rows × 7 columns</p>\n",
       "</div>"
      ],
      "text/plain": [
       "                                   title  \\\n",
       "0                           Artemis Fowl   \n",
       "1                   Britt-Marie Was Here   \n",
       "2                               Ad Astra   \n",
       "3             Untitled Spider-Man Sequel   \n",
       "4                     Sonic the Hedgehog   \n",
       "...                                  ...   \n",
       "9995                            Clinical   \n",
       "9996       Already Tomorrow in Hong Kong   \n",
       "9997     The Adventures of Milo and Otis   \n",
       "9998  Ghidorah, the Three-Headed Monster   \n",
       "9999                          Earthquake   \n",
       "\n",
       "                                               overview original_language  \\\n",
       "0                                       Why God? Why???                en   \n",
       "1     Britt-Marie, a woman in her sixties, decides t...                sv   \n",
       "2     The near future, a time when both hope and har...                en   \n",
       "3     Sony Pictures Entertainment and The Walt Disne...                en   \n",
       "4     Based on the global blockbuster videogame fran...                en   \n",
       "...                                                 ...               ...   \n",
       "9995  A psychiatrist tries to put her life back toge...                en   \n",
       "9996  In this sparkling romance, Ruby, a Chinese Ame...                en   \n",
       "9997  The story of two animals and their adventures....                ja   \n",
       "9998  The Princess Mas Selina Salno is seemingly ass...                ja   \n",
       "9999  Earthquake is a 1974 American disaster film th...                en   \n",
       "\n",
       "     release_date  popularity  vote_count  vote_average  \n",
       "0        12-06-20     214.043         357           6.0  \n",
       "1        25-01-19     250.576          10           4.5  \n",
       "2        17-09-19     213.321        3768           6.1  \n",
       "3        04-11-21     201.053           0           0.0  \n",
       "4        12-02-20     118.711        4672           7.5  \n",
       "...           ...         ...         ...           ...  \n",
       "9995     13-01-17       9.218         256           5.3  \n",
       "9996     12-02-16       9.935          74           6.2  \n",
       "9997     27-06-86       8.705         113           6.5  \n",
       "9998     20-12-64      10.456         122           7.3  \n",
       "9999     15-11-74      11.455         158           5.8  \n",
       "\n",
       "[10000 rows x 7 columns]"
      ]
     },
     "execution_count": 4,
     "metadata": {},
     "output_type": "execute_result"
    }
   ],
   "source": [
    "df=pd.read_csv('movie.csv')\n",
    "df"
   ]
  },
  {
   "cell_type": "code",
   "execution_count": 5,
   "id": "4c164097",
   "metadata": {},
   "outputs": [
    {
     "data": {
      "text/html": [
       "<div>\n",
       "<style scoped>\n",
       "    .dataframe tbody tr th:only-of-type {\n",
       "        vertical-align: middle;\n",
       "    }\n",
       "\n",
       "    .dataframe tbody tr th {\n",
       "        vertical-align: top;\n",
       "    }\n",
       "\n",
       "    .dataframe thead th {\n",
       "        text-align: right;\n",
       "    }\n",
       "</style>\n",
       "<table border=\"1\" class=\"dataframe\">\n",
       "  <thead>\n",
       "    <tr style=\"text-align: right;\">\n",
       "      <th></th>\n",
       "      <th>title</th>\n",
       "      <th>overview</th>\n",
       "      <th>original_language</th>\n",
       "      <th>release_date</th>\n",
       "      <th>popularity</th>\n",
       "      <th>vote_count</th>\n",
       "      <th>vote_average</th>\n",
       "    </tr>\n",
       "  </thead>\n",
       "  <tbody>\n",
       "    <tr>\n",
       "      <th>0</th>\n",
       "      <td>Artemis Fowl</td>\n",
       "      <td>Why God? Why???</td>\n",
       "      <td>en</td>\n",
       "      <td>12-06-20</td>\n",
       "      <td>214.043</td>\n",
       "      <td>357</td>\n",
       "      <td>6.0</td>\n",
       "    </tr>\n",
       "    <tr>\n",
       "      <th>1</th>\n",
       "      <td>Britt-Marie Was Here</td>\n",
       "      <td>Britt-Marie, a woman in her sixties, decides t...</td>\n",
       "      <td>sv</td>\n",
       "      <td>25-01-19</td>\n",
       "      <td>250.576</td>\n",
       "      <td>10</td>\n",
       "      <td>4.5</td>\n",
       "    </tr>\n",
       "    <tr>\n",
       "      <th>2</th>\n",
       "      <td>Ad Astra</td>\n",
       "      <td>The near future, a time when both hope and har...</td>\n",
       "      <td>en</td>\n",
       "      <td>17-09-19</td>\n",
       "      <td>213.321</td>\n",
       "      <td>3768</td>\n",
       "      <td>6.1</td>\n",
       "    </tr>\n",
       "    <tr>\n",
       "      <th>3</th>\n",
       "      <td>Untitled Spider-Man Sequel</td>\n",
       "      <td>Sony Pictures Entertainment and The Walt Disne...</td>\n",
       "      <td>en</td>\n",
       "      <td>04-11-21</td>\n",
       "      <td>201.053</td>\n",
       "      <td>0</td>\n",
       "      <td>0.0</td>\n",
       "    </tr>\n",
       "    <tr>\n",
       "      <th>4</th>\n",
       "      <td>Sonic the Hedgehog</td>\n",
       "      <td>Based on the global blockbuster videogame fran...</td>\n",
       "      <td>en</td>\n",
       "      <td>12-02-20</td>\n",
       "      <td>118.711</td>\n",
       "      <td>4672</td>\n",
       "      <td>7.5</td>\n",
       "    </tr>\n",
       "  </tbody>\n",
       "</table>\n",
       "</div>"
      ],
      "text/plain": [
       "                        title  \\\n",
       "0                Artemis Fowl   \n",
       "1        Britt-Marie Was Here   \n",
       "2                    Ad Astra   \n",
       "3  Untitled Spider-Man Sequel   \n",
       "4          Sonic the Hedgehog   \n",
       "\n",
       "                                            overview original_language  \\\n",
       "0                                    Why God? Why???                en   \n",
       "1  Britt-Marie, a woman in her sixties, decides t...                sv   \n",
       "2  The near future, a time when both hope and har...                en   \n",
       "3  Sony Pictures Entertainment and The Walt Disne...                en   \n",
       "4  Based on the global blockbuster videogame fran...                en   \n",
       "\n",
       "  release_date  popularity  vote_count  vote_average  \n",
       "0     12-06-20     214.043         357           6.0  \n",
       "1     25-01-19     250.576          10           4.5  \n",
       "2     17-09-19     213.321        3768           6.1  \n",
       "3     04-11-21     201.053           0           0.0  \n",
       "4     12-02-20     118.711        4672           7.5  "
      ]
     },
     "execution_count": 5,
     "metadata": {},
     "output_type": "execute_result"
    }
   ],
   "source": [
    "df.head()"
   ]
  },
  {
   "cell_type": "code",
   "execution_count": 6,
   "id": "5d8e9ca7",
   "metadata": {},
   "outputs": [
    {
     "data": {
      "text/html": [
       "<div>\n",
       "<style scoped>\n",
       "    .dataframe tbody tr th:only-of-type {\n",
       "        vertical-align: middle;\n",
       "    }\n",
       "\n",
       "    .dataframe tbody tr th {\n",
       "        vertical-align: top;\n",
       "    }\n",
       "\n",
       "    .dataframe thead th {\n",
       "        text-align: right;\n",
       "    }\n",
       "</style>\n",
       "<table border=\"1\" class=\"dataframe\">\n",
       "  <thead>\n",
       "    <tr style=\"text-align: right;\">\n",
       "      <th></th>\n",
       "      <th>title</th>\n",
       "      <th>overview</th>\n",
       "      <th>original_language</th>\n",
       "      <th>release_date</th>\n",
       "      <th>popularity</th>\n",
       "      <th>vote_count</th>\n",
       "      <th>vote_average</th>\n",
       "    </tr>\n",
       "  </thead>\n",
       "  <tbody>\n",
       "    <tr>\n",
       "      <th>9995</th>\n",
       "      <td>Clinical</td>\n",
       "      <td>A psychiatrist tries to put her life back toge...</td>\n",
       "      <td>en</td>\n",
       "      <td>13-01-17</td>\n",
       "      <td>9.218</td>\n",
       "      <td>256</td>\n",
       "      <td>5.3</td>\n",
       "    </tr>\n",
       "    <tr>\n",
       "      <th>9996</th>\n",
       "      <td>Already Tomorrow in Hong Kong</td>\n",
       "      <td>In this sparkling romance, Ruby, a Chinese Ame...</td>\n",
       "      <td>en</td>\n",
       "      <td>12-02-16</td>\n",
       "      <td>9.935</td>\n",
       "      <td>74</td>\n",
       "      <td>6.2</td>\n",
       "    </tr>\n",
       "    <tr>\n",
       "      <th>9997</th>\n",
       "      <td>The Adventures of Milo and Otis</td>\n",
       "      <td>The story of two animals and their adventures....</td>\n",
       "      <td>ja</td>\n",
       "      <td>27-06-86</td>\n",
       "      <td>8.705</td>\n",
       "      <td>113</td>\n",
       "      <td>6.5</td>\n",
       "    </tr>\n",
       "    <tr>\n",
       "      <th>9998</th>\n",
       "      <td>Ghidorah, the Three-Headed Monster</td>\n",
       "      <td>The Princess Mas Selina Salno is seemingly ass...</td>\n",
       "      <td>ja</td>\n",
       "      <td>20-12-64</td>\n",
       "      <td>10.456</td>\n",
       "      <td>122</td>\n",
       "      <td>7.3</td>\n",
       "    </tr>\n",
       "    <tr>\n",
       "      <th>9999</th>\n",
       "      <td>Earthquake</td>\n",
       "      <td>Earthquake is a 1974 American disaster film th...</td>\n",
       "      <td>en</td>\n",
       "      <td>15-11-74</td>\n",
       "      <td>11.455</td>\n",
       "      <td>158</td>\n",
       "      <td>5.8</td>\n",
       "    </tr>\n",
       "  </tbody>\n",
       "</table>\n",
       "</div>"
      ],
      "text/plain": [
       "                                   title  \\\n",
       "9995                            Clinical   \n",
       "9996       Already Tomorrow in Hong Kong   \n",
       "9997     The Adventures of Milo and Otis   \n",
       "9998  Ghidorah, the Three-Headed Monster   \n",
       "9999                          Earthquake   \n",
       "\n",
       "                                               overview original_language  \\\n",
       "9995  A psychiatrist tries to put her life back toge...                en   \n",
       "9996  In this sparkling romance, Ruby, a Chinese Ame...                en   \n",
       "9997  The story of two animals and their adventures....                ja   \n",
       "9998  The Princess Mas Selina Salno is seemingly ass...                ja   \n",
       "9999  Earthquake is a 1974 American disaster film th...                en   \n",
       "\n",
       "     release_date  popularity  vote_count  vote_average  \n",
       "9995     13-01-17       9.218         256           5.3  \n",
       "9996     12-02-16       9.935          74           6.2  \n",
       "9997     27-06-86       8.705         113           6.5  \n",
       "9998     20-12-64      10.456         122           7.3  \n",
       "9999     15-11-74      11.455         158           5.8  "
      ]
     },
     "execution_count": 6,
     "metadata": {},
     "output_type": "execute_result"
    }
   ],
   "source": [
    "df.tail()"
   ]
  },
  {
   "cell_type": "code",
   "execution_count": 7,
   "id": "037fa614",
   "metadata": {},
   "outputs": [
    {
     "data": {
      "text/html": [
       "<div>\n",
       "<style scoped>\n",
       "    .dataframe tbody tr th:only-of-type {\n",
       "        vertical-align: middle;\n",
       "    }\n",
       "\n",
       "    .dataframe tbody tr th {\n",
       "        vertical-align: top;\n",
       "    }\n",
       "\n",
       "    .dataframe thead th {\n",
       "        text-align: right;\n",
       "    }\n",
       "</style>\n",
       "<table border=\"1\" class=\"dataframe\">\n",
       "  <thead>\n",
       "    <tr style=\"text-align: right;\">\n",
       "      <th></th>\n",
       "      <th>popularity</th>\n",
       "      <th>vote_count</th>\n",
       "      <th>vote_average</th>\n",
       "    </tr>\n",
       "  </thead>\n",
       "  <tbody>\n",
       "    <tr>\n",
       "      <th>count</th>\n",
       "      <td>10000.000000</td>\n",
       "      <td>10000.000000</td>\n",
       "      <td>10000.000000</td>\n",
       "    </tr>\n",
       "    <tr>\n",
       "      <th>mean</th>\n",
       "      <td>14.484517</td>\n",
       "      <td>1072.132900</td>\n",
       "      <td>6.281170</td>\n",
       "    </tr>\n",
       "    <tr>\n",
       "      <th>std</th>\n",
       "      <td>8.307877</td>\n",
       "      <td>2095.187424</td>\n",
       "      <td>1.169544</td>\n",
       "    </tr>\n",
       "    <tr>\n",
       "      <th>min</th>\n",
       "      <td>0.000000</td>\n",
       "      <td>0.000000</td>\n",
       "      <td>0.000000</td>\n",
       "    </tr>\n",
       "    <tr>\n",
       "      <th>25%</th>\n",
       "      <td>10.216000</td>\n",
       "      <td>131.000000</td>\n",
       "      <td>5.700000</td>\n",
       "    </tr>\n",
       "    <tr>\n",
       "      <th>50%</th>\n",
       "      <td>12.631000</td>\n",
       "      <td>338.000000</td>\n",
       "      <td>6.400000</td>\n",
       "    </tr>\n",
       "    <tr>\n",
       "      <th>75%</th>\n",
       "      <td>16.291000</td>\n",
       "      <td>980.500000</td>\n",
       "      <td>7.000000</td>\n",
       "    </tr>\n",
       "    <tr>\n",
       "      <th>max</th>\n",
       "      <td>250.576000</td>\n",
       "      <td>26196.000000</td>\n",
       "      <td>9.500000</td>\n",
       "    </tr>\n",
       "  </tbody>\n",
       "</table>\n",
       "</div>"
      ],
      "text/plain": [
       "         popularity    vote_count  vote_average\n",
       "count  10000.000000  10000.000000  10000.000000\n",
       "mean      14.484517   1072.132900      6.281170\n",
       "std        8.307877   2095.187424      1.169544\n",
       "min        0.000000      0.000000      0.000000\n",
       "25%       10.216000    131.000000      5.700000\n",
       "50%       12.631000    338.000000      6.400000\n",
       "75%       16.291000    980.500000      7.000000\n",
       "max      250.576000  26196.000000      9.500000"
      ]
     },
     "execution_count": 7,
     "metadata": {},
     "output_type": "execute_result"
    }
   ],
   "source": [
    "df.describe()"
   ]
  },
  {
   "cell_type": "code",
   "execution_count": 8,
   "id": "9cb8d499",
   "metadata": {},
   "outputs": [
    {
     "data": {
      "text/plain": [
       "<bound method DataFrame.info of                                    title  \\\n",
       "0                           Artemis Fowl   \n",
       "1                   Britt-Marie Was Here   \n",
       "2                               Ad Astra   \n",
       "3             Untitled Spider-Man Sequel   \n",
       "4                     Sonic the Hedgehog   \n",
       "...                                  ...   \n",
       "9995                            Clinical   \n",
       "9996       Already Tomorrow in Hong Kong   \n",
       "9997     The Adventures of Milo and Otis   \n",
       "9998  Ghidorah, the Three-Headed Monster   \n",
       "9999                          Earthquake   \n",
       "\n",
       "                                               overview original_language  \\\n",
       "0                                       Why God? Why???                en   \n",
       "1     Britt-Marie, a woman in her sixties, decides t...                sv   \n",
       "2     The near future, a time when both hope and har...                en   \n",
       "3     Sony Pictures Entertainment and The Walt Disne...                en   \n",
       "4     Based on the global blockbuster videogame fran...                en   \n",
       "...                                                 ...               ...   \n",
       "9995  A psychiatrist tries to put her life back toge...                en   \n",
       "9996  In this sparkling romance, Ruby, a Chinese Ame...                en   \n",
       "9997  The story of two animals and their adventures....                ja   \n",
       "9998  The Princess Mas Selina Salno is seemingly ass...                ja   \n",
       "9999  Earthquake is a 1974 American disaster film th...                en   \n",
       "\n",
       "     release_date  popularity  vote_count  vote_average  \n",
       "0        12-06-20     214.043         357           6.0  \n",
       "1        25-01-19     250.576          10           4.5  \n",
       "2        17-09-19     213.321        3768           6.1  \n",
       "3        04-11-21     201.053           0           0.0  \n",
       "4        12-02-20     118.711        4672           7.5  \n",
       "...           ...         ...         ...           ...  \n",
       "9995     13-01-17       9.218         256           5.3  \n",
       "9996     12-02-16       9.935          74           6.2  \n",
       "9997     27-06-86       8.705         113           6.5  \n",
       "9998     20-12-64      10.456         122           7.3  \n",
       "9999     15-11-74      11.455         158           5.8  \n",
       "\n",
       "[10000 rows x 7 columns]>"
      ]
     },
     "execution_count": 8,
     "metadata": {},
     "output_type": "execute_result"
    }
   ],
   "source": [
    "df.info"
   ]
  },
  {
   "cell_type": "code",
   "execution_count": 9,
   "id": "1e4336ee",
   "metadata": {},
   "outputs": [
    {
     "data": {
      "text/plain": [
       "title                 object\n",
       "overview              object\n",
       "original_language     object\n",
       "release_date          object\n",
       "popularity           float64\n",
       "vote_count             int64\n",
       "vote_average         float64\n",
       "dtype: object"
      ]
     },
     "execution_count": 9,
     "metadata": {},
     "output_type": "execute_result"
    }
   ],
   "source": [
    "df.dtypes"
   ]
  },
  {
   "cell_type": "code",
   "execution_count": 10,
   "id": "3ab40849",
   "metadata": {},
   "outputs": [
    {
     "data": {
      "text/plain": [
       "title                 0\n",
       "overview             17\n",
       "original_language     0\n",
       "release_date          1\n",
       "popularity            0\n",
       "vote_count            0\n",
       "vote_average          0\n",
       "dtype: int64"
      ]
     },
     "execution_count": 10,
     "metadata": {},
     "output_type": "execute_result"
    }
   ],
   "source": [
    "df.isnull().sum()"
   ]
  },
  {
   "cell_type": "code",
   "execution_count": 11,
   "id": "7cec5056",
   "metadata": {},
   "outputs": [
    {
     "data": {
      "text/plain": [
       "Index(['title', 'overview', 'original_language', 'release_date', 'popularity',\n",
       "       'vote_count', 'vote_average'],\n",
       "      dtype='object')"
      ]
     },
     "execution_count": 11,
     "metadata": {},
     "output_type": "execute_result"
    }
   ],
   "source": [
    "df.columns"
   ]
  },
  {
   "cell_type": "code",
   "execution_count": 13,
   "id": "3bf2d666",
   "metadata": {},
   "outputs": [],
   "source": [
    "df=df.dropna()"
   ]
  },
  {
   "cell_type": "code",
   "execution_count": 14,
   "id": "3b5a31cc",
   "metadata": {},
   "outputs": [
    {
     "data": {
      "text/plain": [
       "title                0\n",
       "overview             0\n",
       "original_language    0\n",
       "release_date         0\n",
       "popularity           0\n",
       "vote_count           0\n",
       "vote_average         0\n",
       "dtype: int64"
      ]
     },
     "execution_count": 14,
     "metadata": {},
     "output_type": "execute_result"
    }
   ],
   "source": [
    "df.isnull().sum()"
   ]
  },
  {
   "cell_type": "code",
   "execution_count": 15,
   "id": "cc001f98",
   "metadata": {},
   "outputs": [
    {
     "data": {
      "image/png": "[encoded data removed]",
      "text/plain": [
       "<Figure size 640x480 with 1 Axes>"
      ]
     },
     "metadata": {},
     "output_type": "display_data"
    }
   ],
   "source": [
    "# Data visualization\n",
    "sns.countplot(df['vote_count'])\n",
    "plt.title('Distribution of vote counts')\n",
    "plt.show()"
   ]
  },
  {
   "cell_type": "code",
   "execution_count": 18,
   "id": "56db7048",
   "metadata": {},
   "outputs": [
    {
     "data": {
      "image/png": "[encoded data removed]",
      "text/plain": [
       "<Figure size 640x480 with 1 Axes>"
      ]
     },
     "metadata": {},
     "output_type": "display_data"
    }
   ],
   "source": [
    "sns.countplot(data=df,x='vote_count')\n",
    "plt.title('Distribution of vote counts')\n",
    "plt.show()"
   ]
  },
  {
   "cell_type": "code",
   "execution_count": 19,
   "id": "60b148f3",
   "metadata": {},
   "outputs": [
    {
     "data": {
      "text/plain": [
       "<AxesSubplot: >"
      ]
     },
     "execution_count": 19,
     "metadata": {},
     "output_type": "execute_result"
    },
    {
     "data": {
      "image/png": "[encoded data removed]",
      "text/plain": [
       "<Figure size 640x480 with 1 Axes>"
      ]
     },
     "metadata": {},
     "output_type": "display_data"
    }
   ],
   "source": [
    "sns.boxplot(df['popularity'])"
   ]
  },
  {
   "cell_type": "code",
   "execution_count": 20,
   "id": "bf42df58",
   "metadata": {},
   "outputs": [
    {
     "data": {
      "image/png": "[encoded data removed]",
      "text/plain": [
       "<Figure size 640x480 with 1 Axes>"
      ]
     },
     "metadata": {},
     "output_type": "display_data"
    }
   ],
   "source": [
    "plt.hist(df['popularity'],bins=10)\n",
    "plt.xlabel('popularity')\n",
    "plt.ylabel('frequency')\n",
    "plt.title('distribution of movie popularity')\n",
    "plt.show()"
   ]
  },
  {
   "cell_type": "code",
   "execution_count": 45,
   "id": "e3876cf1",
   "metadata": {},
   "outputs": [],
   "source": [
    "x=df[['popularity']]\n",
    "y=df['vote_count']"
   ]
  },
  {
   "cell_type": "code",
   "execution_count": 46,
   "id": "080cc767",
   "metadata": {},
   "outputs": [],
   "source": [
    "from sklearn.model_selection import train_test_split\n",
    "xtrain,xtest,ytrain,ytest=train_test_split(x,y,test_size=0.25,random_state=0)"
   ]
  },
  {
   "cell_type": "code",
   "execution_count": 47,
   "id": "637e95ca",
   "metadata": {},
   "outputs": [
    {
     "name": "stdout",
     "output_type": "stream",
     "text": [
      "      popularity\n",
      "4508       9.143\n",
      "6135      10.368\n",
      "6371       9.500\n",
      "8466      10.296\n",
      "6262      11.218\n",
      "...          ...\n",
      "9241       9.500\n",
      "4868      14.301\n",
      "3273      15.393\n",
      "9862       9.712\n",
      "2738       9.692\n",
      "\n",
      "[7486 rows x 1 columns]\n",
      "      popularity\n",
      "6918      11.906\n",
      "9584      10.231\n",
      "8094       7.793\n",
      "1866      17.650\n",
      "1513      20.756\n",
      "...          ...\n",
      "2335      13.548\n",
      "4322      14.421\n",
      "641       31.056\n",
      "5615      11.271\n",
      "2468      10.501\n",
      "\n",
      "[2496 rows x 1 columns]\n"
     ]
    }
   ],
   "source": [
    "print(xtrain)\n",
    "print(xtest)"
   ]
  },
  {
   "cell_type": "code",
   "execution_count": 48,
   "id": "55fec59f",
   "metadata": {},
   "outputs": [],
   "source": [
    "from sklearn.preprocessing import StandardScaler\n",
    "sc_scale=StandardScaler()\n",
    "xtrain=sc_scale.fit_transform(xtrain)\n",
    "xtest=sc_scale.transform(xtest)"
   ]
  },
  {
   "cell_type": "code",
   "execution_count": 49,
   "id": "34adfa21",
   "metadata": {},
   "outputs": [
    {
     "data": {
      "text/html": [
       "<style>#sk-container-id-2 {color: black;background-color: white;}#sk-container-id-2 pre{padding: 0;}#sk-container-id-2 div.sk-toggleable {background-color: white;}#sk-container-id-2 label.sk-toggleable__label {cursor: pointer;display: block;width: 100%;margin-bottom: 0;padding: 0.3em;box-sizing: border-box;text-align: center;}#sk-container-id-2 label.sk-toggleable__label-arrow:before {content: \"▸\";float: left;margin-right: 0.25em;color: #696969;}#sk-container-id-2 label.sk-toggleable__label-arrow:hover:before {color: black;}#sk-container-id-2 div.sk-estimator:hover label.sk-toggleable__label-arrow:before {color: black;}#sk-container-id-2 div.sk-toggleable__content {max-height: 0;max-width: 0;overflow: hidden;text-align: left;background-color: #f0f8ff;}#sk-container-id-2 div.sk-toggleable__content pre {margin: 0.2em;color: black;border-radius: 0.25em;background-color: #f0f8ff;}#sk-container-id-2 input.sk-toggleable__control:checked~div.sk-toggleable__content {max-height: 200px;max-width: 100%;overflow: auto;}#sk-container-id-2 input.sk-toggleable__control:checked~label.sk-toggleable__label-arrow:before {content: \"▾\";}#sk-container-id-2 div.sk-estimator input.sk-toggleable__control:checked~label.sk-toggleable__label {background-color: #d4ebff;}#sk-container-id-2 div.sk-label input.sk-toggleable__control:checked~label.sk-toggleable__label {background-color: #d4ebff;}#sk-container-id-2 input.sk-hidden--visually {border: 0;clip: rect(1px 1px 1px 1px);clip: rect(1px, 1px, 1px, 1px);height: 1px;margin: -1px;overflow: hidden;padding: 0;position: absolute;width: 1px;}#sk-container-id-2 div.sk-estimator {font-family: monospace;background-color: #f0f8ff;border: 1px dotted black;border-radius: 0.25em;box-sizing: border-box;margin-bottom: 0.5em;}#sk-container-id-2 div.sk-estimator:hover {background-color: #d4ebff;}#sk-container-id-2 div.sk-parallel-item::after {content: \"\";width: 100%;border-bottom: 1px solid gray;flex-grow: 1;}#sk-container-id-2 div.sk-label:hover label.sk-toggleable__label {background-color: #d4ebff;}#sk-container-id-2 div.sk-serial::before {content: \"\";position: absolute;border-left: 1px solid gray;box-sizing: border-box;top: 0;bottom: 0;left: 50%;z-index: 0;}#sk-container-id-2 div.sk-serial {display: flex;flex-direction: column;align-items: center;background-color: white;padding-right: 0.2em;padding-left: 0.2em;position: relative;}#sk-container-id-2 div.sk-item {position: relative;z-index: 1;}#sk-container-id-2 div.sk-parallel {display: flex;align-items: stretch;justify-content: center;background-color: white;position: relative;}#sk-container-id-2 div.sk-item::before, #sk-container-id-2 div.sk-parallel-item::before {content: \"\";position: absolute;border-left: 1px solid gray;box-sizing: border-box;top: 0;bottom: 0;left: 50%;z-index: -1;}#sk-container-id-2 div.sk-parallel-item {display: flex;flex-direction: column;z-index: 1;position: relative;background-color: white;}#sk-container-id-2 div.sk-parallel-item:first-child::after {align-self: flex-end;width: 50%;}#sk-container-id-2 div.sk-parallel-item:last-child::after {align-self: flex-start;width: 50%;}#sk-container-id-2 div.sk-parallel-item:only-child::after {width: 0;}#sk-container-id-2 div.sk-dashed-wrapped {border: 1px dashed gray;margin: 0 0.4em 0.5em 0.4em;box-sizing: border-box;padding-bottom: 0.4em;background-color: white;}#sk-container-id-2 div.sk-label label {font-family: monospace;font-weight: bold;display: inline-block;line-height: 1.2em;}#sk-container-id-2 div.sk-label-container {text-align: center;}#sk-container-id-2 div.sk-container {/* jupyter's `normalize.less` sets `[hidden] { display: none; }` but bootstrap.min.css set `[hidden] { display: none !important; }` so we also need the `!important` here to be able to override the default hidden behavior on the sphinx rendered scikit-learn.org. See: https://github.com/scikit-learn/scikit-learn/issues/21755 */display: inline-block !important;position: relative;}#sk-container-id-2 div.sk-text-repr-fallback {display: none;}</style><div id=\"sk-container-id-2\" class=\"sk-top-container\"><div class=\"sk-text-repr-fallback\"><pre>LogisticRegression()</pre><b>In a Jupyter environment, please rerun this cell to show the HTML representation or trust the notebook. <br />On GitHub, the HTML representation is unable to render, please try loading this page with nbviewer.org.</b></div><div class=\"sk-container\" hidden><div class=\"sk-item\"><div class=\"sk-estimator sk-toggleable\"><input class=\"sk-toggleable__control sk-hidden--visually\" id=\"sk-estimator-id-2\" type=\"checkbox\" checked><label for=\"sk-estimator-id-2\" class=\"sk-toggleable__label sk-toggleable__label-arrow\">LogisticRegression</label><div class=\"sk-toggleable__content\"><pre>LogisticRegression()</pre></div></div></div></div></div>"
      ],
      "text/plain": [
       "LogisticRegression()"
      ]
     },
     "execution_count": 49,
     "metadata": {},
     "output_type": "execute_result"
    }
   ],
   "source": [
    "from sklearn.linear_model import LogisticRegression\n",
    "classifier=LogisticRegression()\n",
    "classifier.fit(xtrain,ytrain)"
   ]
  },
  {
   "cell_type": "code",
   "execution_count": 50,
   "id": "2668262f",
   "metadata": {},
   "outputs": [],
   "source": [
    "ypred=classifier.predict(xtest)"
   ]
  },
  {
   "cell_type": "code",
   "execution_count": 51,
   "id": "6d99c20f",
   "metadata": {},
   "outputs": [
    {
     "name": "stdout",
     "output_type": "stream",
     "text": [
      "the correlation matrix is:               popularity  vote_count  vote_average\n",
      "popularity      1.000000    0.567026      0.154935\n",
      "vote_count      0.567026    1.000000      0.272952\n",
      "vote_average    0.154935    0.272952      1.000000\n"
     ]
    }
   ],
   "source": [
    "correlation_matrix=df.corr()\n",
    "print('the correlation matrix is:',correlation_matrix)"
   ]
  },
  {
   "cell_type": "code",
   "execution_count": 52,
   "id": "dea82c1f",
   "metadata": {},
   "outputs": [
    {
     "name": "stdout",
     "output_type": "stream",
     "text": [
      "confusion matrix is: [[18  2  1 ...  1  1  1]\n",
      " [ 0  0  0 ...  0  0  0]\n",
      " [ 0  0  0 ...  0  0  0]\n",
      " ...\n",
      " [ 0  0  0 ...  0  0  0]\n",
      " [ 0  0  0 ...  0  0  0]\n",
      " [ 0  0  0 ...  0  0  0]]\n"
     ]
    }
   ],
   "source": [
    "from sklearn.metrics import confusion_matrix\n",
    "cm=confusion_matrix(ypred,ytest)\n",
    "print('confusion matrix is:',cm)"
   ]
  },
  {
   "cell_type": "code",
   "execution_count": 53,
   "id": "f5d924a3",
   "metadata": {},
   "outputs": [
    {
     "data": {
      "text/plain": [
       "<AxesSubplot: >"
      ]
     },
     "execution_count": 53,
     "metadata": {},
     "output_type": "execute_result"
    },
    {
     "data": {
      "image/png": "[encoded data removed]",
      "text/plain": [
       "<Figure size 640x480 with 2 Axes>"
      ]
     },
     "metadata": {},
     "output_type": "display_data"
    }
   ],
   "source": [
    "sns.heatmap(correlation_matrix,annot=True)"
   ]
  },
  {
   "cell_type": "code",
   "execution_count": 58,
   "id": "d60afa67",
   "metadata": {},
   "outputs": [
    {
     "name": "stdout",
     "output_type": "stream",
     "text": [
      "the accuracy is: 0.921474358974359 %\n"
     ]
    }
   ],
   "source": [
    "from sklearn.metrics import accuracy_score\n",
    "print('the accuracy is:',accuracy_score(ypred,ytest)*100,'%')"
   ]
  },
  {
   "cell_type": "code",
   "execution_count": 59,
   "id": "0b4077d7",
   "metadata": {},
   "outputs": [],
   "source": [
    "top_movies = df.nlargest(10, 'popularity')\n"
   ]
  },
  {
   "cell_type": "code",
   "execution_count": 60,
   "id": "7e47643f",
   "metadata": {},
   "outputs": [
    {
     "name": "stdout",
     "output_type": "stream",
     "text": [
      "                                                title  popularity  \\\n",
      "1                                Britt-Marie Was Here     250.576   \n",
      "0                                        Artemis Fowl     214.043   \n",
      "2                                            Ad Astra     213.321   \n",
      "3                          Untitled Spider-Man Sequel     201.053   \n",
      "4                                  Sonic the Hedgehog     118.711   \n",
      "6                                            Parasite     114.917   \n",
      "5                                         Da 5 Bloods     103.670   \n",
      "9   Birds of Prey (and the Fantabulous Emancipatio...     101.992   \n",
      "7                                       Feel the Beat      94.574   \n",
      "12          The Hobbit: The Battle of the Five Armies      90.193   \n",
      "\n",
      "                                             overview  \n",
      "1   Britt-Marie, a woman in her sixties, decides t...  \n",
      "0                                     Why God? Why???  \n",
      "2   The near future, a time when both hope and har...  \n",
      "3   Sony Pictures Entertainment and The Walt Disne...  \n",
      "4   Based on the global blockbuster videogame fran...  \n",
      "6   All unemployed, Ki-taek's family takes peculia...  \n",
      "5   Four African-American Vietnam veterans return ...  \n",
      "9   Harley Quinn joins forces with a singer, an as...  \n",
      "7   After failing to make it on Broadway, April re...  \n",
      "12  Immediately after the events of The Desolation...  \n"
     ]
    }
   ],
   "source": [
    "best_movies=top_movies[['title','popularity','overview']]\n",
    "print(best_movies)"
   ]
  },
  {
   "cell_type": "code",
   "execution_count": null,
   "id": "5152f71d",
   "metadata": {},
   "outputs": [],
   "source": []
  }
 ],
 "metadata": {
  "kernelspec": {
   "display_name": "Python 3 (ipykernel)",
   "language": "python",
   "name": "python3"
  },
  "language_info": {
   "codemirror_mode": {
    "name": "ipython",
    "version": 3
   },
   "file_extension": ".py",
   "mimetype": "text/x-python",
   "name": "python",
   "nbconvert_exporter": "python",
   "pygments_lexer": "ipython3",
   "version": "3.10.4"
  }
 },
 "nbformat": 4,
 "nbformat_minor": 5
}
