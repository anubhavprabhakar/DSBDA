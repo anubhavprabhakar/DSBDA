{
  "metadata": {
    "language_info": {
      "codemirror_mode": {
        "name": "python",
        "version": 3
      },
      "file_extension": ".py",
      "mimetype": "text/x-python",
      "name": "python",
      "nbconvert_exporter": "python",
      "pygments_lexer": "ipython3",
      "version": "3.8"
    },
    "kernelspec": {
      "name": "python",
      "display_name": "Python (Pyodide)",
      "language": "python"
    }
  },
  "nbformat_minor": 4,
  "nbformat": 4,
  "cells": [
    {
      "cell_type": "code",
      "source": "import numpy as np\nimport pandas as pd\nimport math",
      "metadata": {
        "trusted": true
      },
      "execution_count": 1,
      "outputs": []
    },
    {
      "cell_type": "code",
      "source": "df=pd.read_csv('raw_data.csv')\ndf",
      "metadata": {
        "trusted": true
      },
      "execution_count": 2,
      "outputs": [
        {
          "execution_count": 2,
          "output_type": "execute_result",
          "data": {
            "text/plain": "   math score  reading score  writing score  Placement Score  \\\n0   72.000000          72.00           74.0           78.000   \n1   69.000000          90.00           88.0           62.125   \n2   90.000000          95.00           93.0           74.000   \n3   47.000000          57.00           77.0           78.000   \n4   52.285714          78.00           75.0           81.000   \n5   71.000000          72.25           78.0           70.000   \n6   12.000000          44.00           52.0           12.000   \n7   52.285714          65.00           67.0           49.000   \n8    5.000000          77.00           89.0           55.000   \n\n   placement offer count  \n0                      1  \n1                      2  \n2                      2  \n3                      1  \n4                      3  \n5                      4  \n6                      2  \n7                      1  \n8                      0  ",
            "text/html": "<div>\n<style scoped>\n    .dataframe tbody tr th:only-of-type {\n        vertical-align: middle;\n    }\n\n    .dataframe tbody tr th {\n        vertical-align: top;\n    }\n\n    .dataframe thead th {\n        text-align: right;\n    }\n</style>\n<table border=\"1\" class=\"dataframe\">\n  <thead>\n    <tr style=\"text-align: right;\">\n      <th></th>\n      <th>math score</th>\n      <th>reading score</th>\n      <th>writing score</th>\n      <th>Placement Score</th>\n      <th>placement offer count</th>\n    </tr>\n  </thead>\n  <tbody>\n    <tr>\n      <th>0</th>\n      <td>72.000000</td>\n      <td>72.00</td>\n      <td>74.0</td>\n      <td>78.000</td>\n      <td>1</td>\n    </tr>\n    <tr>\n      <th>1</th>\n      <td>69.000000</td>\n      <td>90.00</td>\n      <td>88.0</td>\n      <td>62.125</td>\n      <td>2</td>\n    </tr>\n    <tr>\n      <th>2</th>\n      <td>90.000000</td>\n      <td>95.00</td>\n      <td>93.0</td>\n      <td>74.000</td>\n      <td>2</td>\n    </tr>\n    <tr>\n      <th>3</th>\n      <td>47.000000</td>\n      <td>57.00</td>\n      <td>77.0</td>\n      <td>78.000</td>\n      <td>1</td>\n    </tr>\n    <tr>\n      <th>4</th>\n      <td>52.285714</td>\n      <td>78.00</td>\n      <td>75.0</td>\n      <td>81.000</td>\n      <td>3</td>\n    </tr>\n    <tr>\n      <th>5</th>\n      <td>71.000000</td>\n      <td>72.25</td>\n      <td>78.0</td>\n      <td>70.000</td>\n      <td>4</td>\n    </tr>\n    <tr>\n      <th>6</th>\n      <td>12.000000</td>\n      <td>44.00</td>\n      <td>52.0</td>\n      <td>12.000</td>\n      <td>2</td>\n    </tr>\n    <tr>\n      <th>7</th>\n      <td>52.285714</td>\n      <td>65.00</td>\n      <td>67.0</td>\n      <td>49.000</td>\n      <td>1</td>\n    </tr>\n    <tr>\n      <th>8</th>\n      <td>5.000000</td>\n      <td>77.00</td>\n      <td>89.0</td>\n      <td>55.000</td>\n      <td>0</td>\n    </tr>\n  </tbody>\n</table>\n</div>"
          },
          "metadata": {}
        }
      ]
    },
    {
      "cell_type": "raw",
      "source": "# Mean",
      "metadata": {}
    },
    {
      "cell_type": "code",
      "source": "s_values=df['math score'].sum()",
      "metadata": {
        "trusted": true
      },
      "execution_count": 3,
      "outputs": []
    },
    {
      "cell_type": "code",
      "source": "c_values=df['math score'].count()",
      "metadata": {
        "trusted": true
      },
      "execution_count": 4,
      "outputs": []
    },
    {
      "cell_type": "code",
      "source": "mean=s_values/c_values",
      "metadata": {
        "trusted": true
      },
      "execution_count": 5,
      "outputs": []
    },
    {
      "cell_type": "code",
      "source": "print(mean)",
      "metadata": {
        "trusted": true
      },
      "execution_count": 6,
      "outputs": [
        {
          "name": "stdout",
          "text": "52.28571422222222\n",
          "output_type": "stream"
        }
      ]
    },
    {
      "cell_type": "raw",
      "source": "# Median",
      "metadata": {}
    },
    {
      "cell_type": "code",
      "source": "np.sort(df['math score'])\n",
      "metadata": {
        "trusted": true
      },
      "execution_count": 7,
      "outputs": [
        {
          "execution_count": 7,
          "output_type": "execute_result",
          "data": {
            "text/plain": "array([ 5.      , 12.      , 47.      , 52.285714, 52.285714, 69.      ,\n       71.      , 72.      , 90.      ])"
          },
          "metadata": {}
        }
      ]
    },
    {
      "cell_type": "code",
      "source": "middle_index=math.floor(c_values/2)\n",
      "metadata": {
        "trusted": true
      },
      "execution_count": 9,
      "outputs": []
    },
    {
      "cell_type": "code",
      "source": "median=np.sort(df['math score'])[middle_index]\n",
      "metadata": {
        "trusted": true
      },
      "execution_count": 10,
      "outputs": []
    },
    {
      "cell_type": "code",
      "source": "print(median)",
      "metadata": {
        "trusted": true
      },
      "execution_count": 11,
      "outputs": [
        {
          "name": "stdout",
          "text": "52.285714\n",
          "output_type": "stream"
        }
      ]
    },
    {
      "cell_type": "code",
      "source": "max_value=np.sort(df['math score'])[-1]\n",
      "metadata": {
        "trusted": true
      },
      "execution_count": 17,
      "outputs": []
    },
    {
      "cell_type": "code",
      "source": "print(max_value)",
      "metadata": {
        "trusted": true
      },
      "execution_count": 18,
      "outputs": [
        {
          "name": "stdout",
          "text": "90.0\n",
          "output_type": "stream"
        }
      ]
    },
    {
      "cell_type": "code",
      "source": "min_value=np.sort(df['math score'])[0]\nprint(min_value)",
      "metadata": {
        "trusted": true
      },
      "execution_count": 14,
      "outputs": [
        {
          "name": "stdout",
          "text": "5.0\n",
          "output_type": "stream"
        }
      ]
    },
    {
      "cell_type": "code",
      "source": "def max_value(variable):\n    return np.sort(df[variable])[-1]",
      "metadata": {
        "trusted": true
      },
      "execution_count": 19,
      "outputs": []
    },
    {
      "cell_type": "code",
      "source": "max_value('math score')\n",
      "metadata": {
        "trusted": true
      },
      "execution_count": 20,
      "outputs": [
        {
          "execution_count": 20,
          "output_type": "execute_result",
          "data": {
            "text/plain": "90.0"
          },
          "metadata": {}
        }
      ]
    },
    {
      "cell_type": "code",
      "source": "# median value using function",
      "metadata": {},
      "execution_count": null,
      "outputs": []
    },
    {
      "cell_type": "code",
      "source": "def median_value(variable):\n    middle_index=math.floor(c_values/2)\n    return np.sort(df[variable])[middle_index]\nmedian_value('math score')",
      "metadata": {
        "trusted": true
      },
      "execution_count": 22,
      "outputs": [
        {
          "execution_count": 22,
          "output_type": "execute_result",
          "data": {
            "text/plain": "52.285714"
          },
          "metadata": {}
        }
      ]
    },
    {
      "cell_type": "code",
      "source": "df['math score'].std()\n",
      "metadata": {
        "trusted": true
      },
      "execution_count": 23,
      "outputs": [
        {
          "execution_count": 23,
          "output_type": "execute_result",
          "data": {
            "text/plain": "28.123452338370043"
          },
          "metadata": {}
        }
      ]
    },
    {
      "cell_type": "code",
      "source": "# standard deviation using function",
      "metadata": {},
      "execution_count": null,
      "outputs": []
    },
    {
      "cell_type": "code",
      "source": "def std_dev(variable):\n    lst=[]\n    for i in range(c_values):\n        sigma=(df[variable][i]-mean)**2\n        lst.append(sigma)\n    return np.sqrt(sum(lst)/c_values)",
      "metadata": {
        "trusted": true
      },
      "execution_count": 24,
      "outputs": []
    },
    {
      "cell_type": "code",
      "source": "std_dev('math score')\n",
      "metadata": {
        "trusted": true
      },
      "execution_count": 25,
      "outputs": [
        {
          "execution_count": 25,
          "output_type": "execute_result",
          "data": {
            "text/plain": "26.515045145117497"
          },
          "metadata": {}
        }
      ]
    },
    {
      "cell_type": "code",
      "source": "std_dev('reading score')\n",
      "metadata": {
        "trusted": true
      },
      "execution_count": 26,
      "outputs": [
        {
          "execution_count": 26,
          "output_type": "execute_result",
          "data": {
            "text/plain": "24.85212792040826"
          },
          "metadata": {}
        }
      ]
    },
    {
      "cell_type": "code",
      "source": "df.describe()\n",
      "metadata": {
        "trusted": true
      },
      "execution_count": 27,
      "outputs": [
        {
          "execution_count": 27,
          "output_type": "execute_result",
          "data": {
            "text/plain": "       math score  reading score  writing score  Placement Score  \\\ncount    9.000000       9.000000         9.0000         9.000000   \nmean    52.285714      72.250000        77.0000        62.125000   \nstd     28.123452      15.698328        12.5499        21.791268   \nmin      5.000000      44.000000        52.0000        12.000000   \n25%     47.000000      65.000000        74.0000        55.000000   \n50%     52.285714      72.250000        77.0000        70.000000   \n75%     71.000000      78.000000        88.0000        78.000000   \nmax     90.000000      95.000000        93.0000        81.000000   \n\n       placement offer count  \ncount               9.000000  \nmean                1.777778  \nstd                 1.201850  \nmin                 0.000000  \n25%                 1.000000  \n50%                 2.000000  \n75%                 2.000000  \nmax                 4.000000  ",
            "text/html": "<div>\n<style scoped>\n    .dataframe tbody tr th:only-of-type {\n        vertical-align: middle;\n    }\n\n    .dataframe tbody tr th {\n        vertical-align: top;\n    }\n\n    .dataframe thead th {\n        text-align: right;\n    }\n</style>\n<table border=\"1\" class=\"dataframe\">\n  <thead>\n    <tr style=\"text-align: right;\">\n      <th></th>\n      <th>math score</th>\n      <th>reading score</th>\n      <th>writing score</th>\n      <th>Placement Score</th>\n      <th>placement offer count</th>\n    </tr>\n  </thead>\n  <tbody>\n    <tr>\n      <th>count</th>\n      <td>9.000000</td>\n      <td>9.000000</td>\n      <td>9.0000</td>\n      <td>9.000000</td>\n      <td>9.000000</td>\n    </tr>\n    <tr>\n      <th>mean</th>\n      <td>52.285714</td>\n      <td>72.250000</td>\n      <td>77.0000</td>\n      <td>62.125000</td>\n      <td>1.777778</td>\n    </tr>\n    <tr>\n      <th>std</th>\n      <td>28.123452</td>\n      <td>15.698328</td>\n      <td>12.5499</td>\n      <td>21.791268</td>\n      <td>1.201850</td>\n    </tr>\n    <tr>\n      <th>min</th>\n      <td>5.000000</td>\n      <td>44.000000</td>\n      <td>52.0000</td>\n      <td>12.000000</td>\n      <td>0.000000</td>\n    </tr>\n    <tr>\n      <th>25%</th>\n      <td>47.000000</td>\n      <td>65.000000</td>\n      <td>74.0000</td>\n      <td>55.000000</td>\n      <td>1.000000</td>\n    </tr>\n    <tr>\n      <th>50%</th>\n      <td>52.285714</td>\n      <td>72.250000</td>\n      <td>77.0000</td>\n      <td>70.000000</td>\n      <td>2.000000</td>\n    </tr>\n    <tr>\n      <th>75%</th>\n      <td>71.000000</td>\n      <td>78.000000</td>\n      <td>88.0000</td>\n      <td>78.000000</td>\n      <td>2.000000</td>\n    </tr>\n    <tr>\n      <th>max</th>\n      <td>90.000000</td>\n      <td>95.000000</td>\n      <td>93.0000</td>\n      <td>81.000000</td>\n      <td>4.000000</td>\n    </tr>\n  </tbody>\n</table>\n</div>"
          },
          "metadata": {}
        }
      ]
    },
    {
      "cell_type": "code",
      "source": "# variance and standard deviation",
      "metadata": {},
      "execution_count": null,
      "outputs": []
    },
    {
      "cell_type": "code",
      "source": "def variance(data,ddof=0):\n    n = len(data)\n    mean = sum(data) / n\n    return sum((x - mean) ** 2 for x in data) / (n - ddof)\n\ndef stdev(data):\n    var = variance(data)\n    std_dev = math.sqrt(var)\n    return std_dev",
      "metadata": {
        "trusted": true
      },
      "execution_count": 28,
      "outputs": []
    },
    {
      "cell_type": "code",
      "source": "variance(df['math score'])\n",
      "metadata": {
        "trusted": true
      },
      "execution_count": 29,
      "outputs": [
        {
          "execution_count": 29,
          "output_type": "execute_result",
          "data": {
            "text/plain": "703.047619047619"
          },
          "metadata": {}
        }
      ]
    },
    {
      "cell_type": "code",
      "source": "stdev(df['math score'])\n",
      "metadata": {
        "trusted": true
      },
      "execution_count": 30,
      "outputs": [
        {
          "execution_count": 30,
          "output_type": "execute_result",
          "data": {
            "text/plain": "26.515045145117497"
          },
          "metadata": {}
        }
      ]
    },
    {
      "cell_type": "code",
      "source": "stdev(df['reading score'])\n",
      "metadata": {
        "trusted": true
      },
      "execution_count": 31,
      "outputs": [
        {
          "execution_count": 31,
          "output_type": "execute_result",
          "data": {
            "text/plain": "14.800525516195549"
          },
          "metadata": {}
        }
      ]
    },
    {
      "cell_type": "code",
      "source": "stdev(df['placement offer count'])\n",
      "metadata": {
        "trusted": true
      },
      "execution_count": 32,
      "outputs": [
        {
          "execution_count": 32,
          "output_type": "execute_result",
          "data": {
            "text/plain": "1.1331154474650633"
          },
          "metadata": {}
        }
      ]
    },
    {
      "cell_type": "code",
      "source": "",
      "metadata": {},
      "execution_count": null,
      "outputs": []
    }
  ]
}